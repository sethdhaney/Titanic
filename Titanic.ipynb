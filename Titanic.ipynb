{
 "cells": [
  {
   "cell_type": "markdown",
   "metadata": {},
   "source": [
    "# Second Attempt at Titanic Data Set: Emphasis Cleaning"
   ]
  },
  {
   "cell_type": "code",
   "execution_count": 3,
   "metadata": {
    "collapsed": false
   },
   "outputs": [],
   "source": [
    "import pandas as pd\n",
    "import numpy as np\n",
    "import matplotlib.pyplot as plt\n",
    "import seaborn as sbn\n",
    "from sklearn.model_selection import GridSearchCV\n",
    "from sklearn.model_selection import train_test_split\n",
    "from sklearn import metrics\n",
    "from sklearn.ensemble import RandomForestClassifier\n",
    "from sklearn.svm import SVC\n"
   ]
  },
  {
   "cell_type": "markdown",
   "metadata": {},
   "source": [
    "## 1) Load Data"
   ]
  },
  {
   "cell_type": "code",
   "execution_count": 4,
   "metadata": {
    "collapsed": false
   },
   "outputs": [
    {
     "data": {
      "text/html": [
       "<div>\n",
       "<table border=\"1\" class=\"dataframe\">\n",
       "  <thead>\n",
       "    <tr style=\"text-align: right;\">\n",
       "      <th></th>\n",
       "      <th>PassengerId</th>\n",
       "      <th>Survived</th>\n",
       "      <th>Pclass</th>\n",
       "      <th>Name</th>\n",
       "      <th>Sex</th>\n",
       "      <th>Age</th>\n",
       "      <th>SibSp</th>\n",
       "      <th>Parch</th>\n",
       "      <th>Ticket</th>\n",
       "      <th>Fare</th>\n",
       "      <th>Cabin</th>\n",
       "      <th>Embarked</th>\n",
       "    </tr>\n",
       "  </thead>\n",
       "  <tbody>\n",
       "    <tr>\n",
       "      <th>0</th>\n",
       "      <td>1</td>\n",
       "      <td>0</td>\n",
       "      <td>3</td>\n",
       "      <td>Braund, Mr. Owen Harris</td>\n",
       "      <td>male</td>\n",
       "      <td>22.0</td>\n",
       "      <td>1</td>\n",
       "      <td>0</td>\n",
       "      <td>A/5 21171</td>\n",
       "      <td>7.2500</td>\n",
       "      <td>NaN</td>\n",
       "      <td>S</td>\n",
       "    </tr>\n",
       "    <tr>\n",
       "      <th>1</th>\n",
       "      <td>2</td>\n",
       "      <td>1</td>\n",
       "      <td>1</td>\n",
       "      <td>Cumings, Mrs. John Bradley (Florence Briggs Th...</td>\n",
       "      <td>female</td>\n",
       "      <td>38.0</td>\n",
       "      <td>1</td>\n",
       "      <td>0</td>\n",
       "      <td>PC 17599</td>\n",
       "      <td>71.2833</td>\n",
       "      <td>C85</td>\n",
       "      <td>C</td>\n",
       "    </tr>\n",
       "    <tr>\n",
       "      <th>2</th>\n",
       "      <td>3</td>\n",
       "      <td>1</td>\n",
       "      <td>3</td>\n",
       "      <td>Heikkinen, Miss. Laina</td>\n",
       "      <td>female</td>\n",
       "      <td>26.0</td>\n",
       "      <td>0</td>\n",
       "      <td>0</td>\n",
       "      <td>STON/O2. 3101282</td>\n",
       "      <td>7.9250</td>\n",
       "      <td>NaN</td>\n",
       "      <td>S</td>\n",
       "    </tr>\n",
       "    <tr>\n",
       "      <th>3</th>\n",
       "      <td>4</td>\n",
       "      <td>1</td>\n",
       "      <td>1</td>\n",
       "      <td>Futrelle, Mrs. Jacques Heath (Lily May Peel)</td>\n",
       "      <td>female</td>\n",
       "      <td>35.0</td>\n",
       "      <td>1</td>\n",
       "      <td>0</td>\n",
       "      <td>113803</td>\n",
       "      <td>53.1000</td>\n",
       "      <td>C123</td>\n",
       "      <td>S</td>\n",
       "    </tr>\n",
       "    <tr>\n",
       "      <th>4</th>\n",
       "      <td>5</td>\n",
       "      <td>0</td>\n",
       "      <td>3</td>\n",
       "      <td>Allen, Mr. William Henry</td>\n",
       "      <td>male</td>\n",
       "      <td>35.0</td>\n",
       "      <td>0</td>\n",
       "      <td>0</td>\n",
       "      <td>373450</td>\n",
       "      <td>8.0500</td>\n",
       "      <td>NaN</td>\n",
       "      <td>S</td>\n",
       "    </tr>\n",
       "  </tbody>\n",
       "</table>\n",
       "</div>"
      ],
      "text/plain": [
       "   PassengerId  Survived  Pclass  \\\n",
       "0            1         0       3   \n",
       "1            2         1       1   \n",
       "2            3         1       3   \n",
       "3            4         1       1   \n",
       "4            5         0       3   \n",
       "\n",
       "                                                Name     Sex   Age  SibSp  \\\n",
       "0                            Braund, Mr. Owen Harris    male  22.0      1   \n",
       "1  Cumings, Mrs. John Bradley (Florence Briggs Th...  female  38.0      1   \n",
       "2                             Heikkinen, Miss. Laina  female  26.0      0   \n",
       "3       Futrelle, Mrs. Jacques Heath (Lily May Peel)  female  35.0      1   \n",
       "4                           Allen, Mr. William Henry    male  35.0      0   \n",
       "\n",
       "   Parch            Ticket     Fare Cabin Embarked  \n",
       "0      0         A/5 21171   7.2500   NaN        S  \n",
       "1      0          PC 17599  71.2833   C85        C  \n",
       "2      0  STON/O2. 3101282   7.9250   NaN        S  \n",
       "3      0            113803  53.1000  C123        S  \n",
       "4      0            373450   8.0500   NaN        S  "
      ]
     },
     "execution_count": 4,
     "metadata": {},
     "output_type": "execute_result"
    }
   ],
   "source": [
    "df = pd.read_csv('train.csv')\n",
    "df.head()"
   ]
  },
  {
   "cell_type": "markdown",
   "metadata": {},
   "source": [
    "## 2) Pre-process Data - determine how to munge"
   ]
  },
  {
   "cell_type": "code",
   "execution_count": 8,
   "metadata": {
    "collapsed": false
   },
   "outputs": [
    {
     "data": {
      "text/html": [
       "<div>\n",
       "<table border=\"1\" class=\"dataframe\">\n",
       "  <thead>\n",
       "    <tr style=\"text-align: right;\">\n",
       "      <th>Embarked</th>\n",
       "      <th>C</th>\n",
       "      <th>Q</th>\n",
       "      <th>S</th>\n",
       "      <th>All</th>\n",
       "    </tr>\n",
       "    <tr>\n",
       "      <th>Pclass</th>\n",
       "      <th></th>\n",
       "      <th></th>\n",
       "      <th></th>\n",
       "      <th></th>\n",
       "    </tr>\n",
       "  </thead>\n",
       "  <tbody>\n",
       "    <tr>\n",
       "      <th>1</th>\n",
       "      <td>85</td>\n",
       "      <td>2</td>\n",
       "      <td>127</td>\n",
       "      <td>214</td>\n",
       "    </tr>\n",
       "    <tr>\n",
       "      <th>2</th>\n",
       "      <td>17</td>\n",
       "      <td>3</td>\n",
       "      <td>164</td>\n",
       "      <td>184</td>\n",
       "    </tr>\n",
       "    <tr>\n",
       "      <th>3</th>\n",
       "      <td>66</td>\n",
       "      <td>72</td>\n",
       "      <td>353</td>\n",
       "      <td>491</td>\n",
       "    </tr>\n",
       "    <tr>\n",
       "      <th>All</th>\n",
       "      <td>168</td>\n",
       "      <td>77</td>\n",
       "      <td>644</td>\n",
       "      <td>889</td>\n",
       "    </tr>\n",
       "  </tbody>\n",
       "</table>\n",
       "</div>"
      ],
      "text/plain": [
       "Embarked    C   Q    S  All\n",
       "Pclass                     \n",
       "1          85   2  127  214\n",
       "2          17   3  164  184\n",
       "3          66  72  353  491\n",
       "All       168  77  644  889"
      ]
     },
     "execution_count": 8,
     "metadata": {},
     "output_type": "execute_result"
    }
   ],
   "source": [
    "pd.crosstab(df['Pclass'], df['Embarked'], margins=True)"
   ]
  },
  {
   "cell_type": "markdown",
   "metadata": {},
   "source": [
    "### 2a) Missing Data"
   ]
  },
  {
   "cell_type": "code",
   "execution_count": 264,
   "metadata": {
    "collapsed": false
   },
   "outputs": [
    {
     "name": "stdout",
     "output_type": "stream",
     "text": [
      "PassengerId    0.000000\n",
      "Survived       0.000000\n",
      "Pclass         0.000000\n",
      "Name           0.000000\n",
      "Sex            0.000000\n",
      "Age            0.198653\n",
      "SibSp          0.000000\n",
      "Parch          0.000000\n",
      "Ticket         0.000000\n",
      "Fare           0.000000\n",
      "Cabin          0.771044\n",
      "Embarked       0.002245\n",
      "dtype: float64\n",
      "{nan, 'S', 'Q', 'C'}\n"
     ]
    }
   ],
   "source": [
    "NE = len(df)\n",
    "pct_missing = pd.Series()\n",
    "missing = pd.DataFrame()\n",
    "\n",
    "for i in df.columns:        \n",
    "        missing[i] = pd.isnull(df[i])\n",
    "        pct_missing[i] = len(df[pd.isnull(df[i])])/NE\n",
    "\n",
    "print(pct_missing)\n",
    "print(set(df['Embarked']))"
   ]
  },
  {
   "cell_type": "code",
   "execution_count": 265,
   "metadata": {
    "collapsed": false
   },
   "outputs": [
    {
     "data": {
      "image/png": "[encoded data removed]",
      "text/plain": [
       "<matplotlib.figure.Figure at 0x120e22be0>"
      ]
     },
     "metadata": {},
     "output_type": "display_data"
    }
   ],
   "source": [
    "#Need to impute age (what does this distribution look like) and embarked (use stratified)\n",
    "#Is Cabin worth keeping?\n",
    "\n",
    "%matplotlib inline\n",
    "\n",
    "#AGE\n",
    "plt.figure()\n",
    "n, bins, patches = plt.hist(df.loc[~missing['Age'],'Age'])\n",
    "#Use strategy 'Normal' - though it's not great\n",
    "\n",
    "#Embarked - Use strategy 'stratified'\n",
    "\n",
    "#Cabin - drop"
   ]
  },
  {
   "cell_type": "markdown",
   "metadata": {},
   "source": [
    "### Main Functions for Pre-processing data"
   ]
  },
  {
   "cell_type": "code",
   "execution_count": 280,
   "metadata": {
    "collapsed": true
   },
   "outputs": [],
   "source": [
    "### SEE MUNGE DATA FOR OUTLINE\n",
    "def munge_data(df, bTrain=True, bSurname=False, bTitle=False, \n",
    "              name_cols=[], bTicketAlph=False):\n",
    "\n",
    "    Y = df['Survived']\n",
    "    X = df.drop(['PassengerId', 'Survived'], axis=1)\n",
    "    \n",
    "    #TODO CANT IMPUTE BEFORE DIGITIZING!!!\n",
    "    #IMPUTE AGE & EMBARKED\n",
    "    X['Age'] = impute_data(X['Age'], strategy='Normal')\n",
    "    X['Embarked'] = impute_data(X['Embarked'], strategy='Stratified')    \n",
    "\n",
    "    #DIGITIZE SEX\n",
    "    X.loc[X['Sex']=='male', 'Sex'] = float(1)\n",
    "    X.loc[X['Sex']=='female', 'Sex'] = float(0)\n",
    "    X['Sex'] = X['Sex'].astype(float)\n",
    "    \n",
    "    #DIGITIZE EMBARKED\n",
    "    X['Embarked_Q'] = (X['Embarked']=='Q').astype(float)\n",
    "    X['Embarked_S'] = (X['Embarked']=='S').astype(float)\n",
    "    X.drop('Embarked', axis=1, inplace=True)\n",
    "    \n",
    "    #DROP CABIN\n",
    "    X = X.drop('Cabin', axis=1)\n",
    "    \n",
    "    #If testing, ensure new X variable has same categorical columns as training set\n",
    "    if (bTrain==False):\n",
    "        for i in name_cols:\n",
    "            X[i]=0\n",
    "            \n",
    "    #PROCESS NAME (Title, Surname)\n",
    "    X, name_cols = process_name(X, name_cols, bTrain=bTrain, \n",
    "                                    bSurname=bSurname, bTitle=bTitle)\n",
    "    \n",
    "    #PROCESS TICKET (Alph, numeric)\n",
    "    X, name_cols = process_ticket(X, name_cols, bTrain=bTrain, bTicketAlph=bTicketAlph)    \n",
    "    \n",
    "    return X,Y,name_cols"
   ]
  },
  {
   "cell_type": "code",
   "execution_count": 281,
   "metadata": {
    "collapsed": true
   },
   "outputs": [],
   "source": [
    "def impute_data(col,strategy):\n",
    "    col = pd.Series(col)\n",
    "    m_idxs = list(col[pd.isnull(col)].index)\n",
    "        \n",
    "    if strategy == 'Stratified':\n",
    "        #below - a series of unique non-null values from col\n",
    "        col_nonull = pd.Series(list(set(col[~pd.isnull(col)])))\n",
    "        NEx = len(col_nonull)\n",
    "        probs = [sum(col==i)/NEx for i in col_nonull]\n",
    "        csprobs = np.cumsum(probs)\n",
    "        r = np.random.rand(len(m_idxs),1)\n",
    "        for i in range(0,len(m_idxs)):\n",
    "            col[m_idxs[i]] = col_nonull[csprobs>r[i]].iloc[0]\n",
    "        return col\n",
    "    \n",
    "    if strategy == 'Mean':\n",
    "        col[m_idxs] = col[~pd.isnull(col)].mean()\n",
    "    \n",
    "    if strategy == 'Median':\n",
    "        col[m_idxs] = col[~pd.isnull(col)].median()\n",
    "        \n",
    "    if strategy == 'Normal':\n",
    "        mu = col[~pd.isnull(col)].mean()\n",
    "        sig = col[~pd.isnull(col)].std()\n",
    "        col[m_idxs] = mu + sig*np.random.randn(len(m_idxs))\n",
    "        return col\n",
    "    \n",
    "    if strategy == 'Exponential': #Shifts by min\n",
    "        mu = (col[~pd.isnull(col)]-min(col[~pd.isnull(col)])).mean()\n",
    "        col[m_idxs] = min(col[~pd.isnull(col)]) + np.random.exponential(scale=mu, size=(len(m_idxs)))\n",
    "        return col"
   ]
  },
  {
   "cell_type": "code",
   "execution_count": 282,
   "metadata": {
    "collapsed": true
   },
   "outputs": [],
   "source": [
    "def process_name(X,name_cols,bTrain=True, bTitle=False, bSurname=False):\n",
    "    '''\n",
    "    X = process_name(X, name_cols, bTrain=True, bTitle=False, bSurname=False)\n",
    "    Adds binarized name fields for surname and title to the returned df X. \n",
    "    \n",
    "    Also requires the list of names of categories in name_cols\n",
    "    \n",
    "    Optional input \n",
    "        -boolean variable bTrain (def=True) determines whether in training or test phase\n",
    "        -boolean variable bTitle (def=False)\n",
    "        -boolean variable bSurname (def=False)\n",
    "\n",
    "    \n",
    "    Strategy is to \n",
    "      1) Extract SURNAME and TITLE from text that is formatted\n",
    "         SURNAME, TITLE. FIRSTNAME\n",
    "         NOTE: if opts contains booleans that determine whether this\n",
    "         actually performed\n",
    "      2) Use Pandas get_dummies to binarize this information\n",
    "      3) Drop original Name column\n",
    "    '''\n",
    "    \n",
    "    Surnames = X['Name'].str.split(',', expand=True)\n",
    "    Titles = Surnames[1].str.split('.', expand=True)      \n",
    "    \n",
    "    if (bSurname):\n",
    "        if (bTrain):\n",
    "            surname_df = pd.get_dummies(Surnames[0])\n",
    "            name_cols = name_cols + list(surname_df.columns)\n",
    "            X = pd.concat([X, surname_df], axis=1)\n",
    "        else:\n",
    "            X = extract_categorical(X, name_cols, Surnames[0])\n",
    "    \n",
    "    if (bTitle):\n",
    "        if (bTrain):\n",
    "            title_df = pd.get_dummies(Titles[0])\n",
    "            name_cols = name_cols + list(title_df.columns)\n",
    "            X = pd.concat([X, title_df], axis=1)\n",
    "        else:\n",
    "            X = extract_categorical(X, name_cols, Titles[0])\n",
    "\n",
    "                    \n",
    "    X.drop('Name', axis=1, inplace=True)\n",
    "    return X, name_cols"
   ]
  },
  {
   "cell_type": "code",
   "execution_count": 283,
   "metadata": {
    "collapsed": true
   },
   "outputs": [],
   "source": [
    "def process_ticket(X,name_cols,bTrain=True, bTicketAlph=False):\n",
    "    '''\n",
    "    X = process_ticket(X, name_cols, bTrain=True, bAlph=False, bNum=False)\n",
    "    Adds binarized name fields for alpha and numeric part of the ticket to the returned df X. \n",
    "    \n",
    "    Also requires the list of names of categories in name_cols\n",
    "    \n",
    "    Optional input \n",
    "    \n",
    "    Options variable, opts, contains\n",
    "        -boolean variable bTrain (def=True) determines whether in training or test phase\n",
    "        -boolean variable bAlph (def=False) determines whether to get Alpha-part of Ticket\n",
    "        -boolean variable bNum (def=False) determines whether to get Num-part of Ticket\n",
    "\n",
    "    \n",
    "    '''\n",
    "    \n",
    "    \n",
    "    \n",
    "    #Strip Numeric and String portions of Ticket\n",
    "    withStr = X['Ticket'].str.contains(\"[a-zA-Z]\")\n",
    "    X['Ticket-Num']=None\n",
    "        \n",
    "    #Numeric only portions\n",
    "    X.loc[~withStr, 'Ticket-Num'] = X.loc[~withStr, 'Ticket'].astype(float)\n",
    "    \n",
    "    #Numeric AND Alph\n",
    "    A_Ticket = pd.DataFrame(X.loc[withStr, 'Ticket'].str.extract(\"([0-9]+$)\", expand=True))\n",
    "\n",
    "    ##### IMPUTING Tickets without number as 0 #####\n",
    "    A_Ticket.loc[A_Ticket[0]=='',0]=0\n",
    "    A_Ticket.loc[A_Ticket[0]=='.',0]=0\n",
    "    A_Ticket.loc[pd.isnull(A_Ticket[0])]=0\n",
    "    X.loc[withStr, 'Ticket-Num'] = A_Ticket[0].astype(float)\n",
    "\n",
    "    #Ticket Alph\n",
    "    A_Ticket = pd.DataFrame(X['Ticket'].str.extract(\"(.*\\s)\", expand=True))\n",
    "    #A_Ticket = pd.DataFrame(X['Ticket'].str.split())\n",
    "    #print(A_Ticket)\n",
    "    A_Ticket[pd.isnull(A_Ticket[0])] = 'NULL-Ticket'\n",
    "    if(bTicketAlph):\n",
    "        if (bTrain):\n",
    "            ticket_df = pd.get_dummies(A_Ticket[0])\n",
    "            name_cols = name_cols + list(ticket_df.columns)\n",
    "            X = pd.concat([X, ticket_df], axis=1)\n",
    "        else:\n",
    "            X = extract_categorical(X, name_cols, A_Ticket[0])\n",
    "\n",
    "    \n",
    "    X.drop('Ticket', axis=1, inplace=True)\n",
    "    return X, name_cols"
   ]
  },
  {
   "cell_type": "code",
   "execution_count": 284,
   "metadata": {
    "collapsed": false
   },
   "outputs": [],
   "source": [
    "def extract_categorical(X, categories, Cats_New):\n",
    "    for i in Cats_New.index:\n",
    "        if Cats_New[i] in categories:\n",
    "            X.loc[i,Cats_New[i]] = 1\n",
    "\n",
    "    return X"
   ]
  },
  {
   "cell_type": "markdown",
   "metadata": {},
   "source": [
    "### Tests for Pre-processing Functions - Sanity checks"
   ]
  },
  {
   "cell_type": "code",
   "execution_count": 285,
   "metadata": {
    "collapsed": true
   },
   "outputs": [],
   "source": [
    "def test_impute_data():\n",
    "    #Test stratification-should impute mostly ones but sometimes 0\n",
    "    bFailed=False\n",
    "    NRuns = 100\n",
    "    col = [1, np.nan, 1, np.nan, 1, 1, 1, 1, 1, 0]\n",
    "    new_col = [0,0,0,0,0,0,0,0,0,0]\n",
    "    \n",
    "    new_col = [impute_data(col, strategy='Stratified') for i in range(0,NRuns)]\n",
    "    new_col = np.mean(np.array(new_col), axis=1)\n",
    "    \n",
    "    p = 7/8\n",
    "    SEM = np.sqrt(p*(1-p))\n",
    "    if ((abs(new_col[1]-(7/8))>SEM) | (abs(new_col[3]-(7/8))>SEM)):\n",
    "        print('test_impute_data:Stratified_test FAILED!!!')\n",
    "        print('new_col[1]', new_col[1], 'Expected to be within', 2*SEM, 'of', p)\n",
    "        print('new_col[3]', new_col[3], 'Expected to be within', 2*SEM, 'of', p)\n",
    "        bFailed=True\n",
    "    \n",
    "    #Test Normal imputation\n",
    "    mu = -5\n",
    "    sig = 10\n",
    "    col = mu + sig*np.random.randn(NRuns)\n",
    "    col[:10] = np.nan\n",
    "    new_col = impute_data(col, strategy='Normal')\n",
    "    \n",
    "    SEM = sig/np.sqrt(NRuns)\n",
    "    if ((abs(np.mean(new_col)-mu)>3*SEM)|(abs(np.std(new_col)-sig)>2*SEM)):\n",
    "        print('test_impute_data:Normal_test FAILED!!!')\n",
    "        print('mu', np.mean(new_col), 'Expected to be within', 3*SEM, 'of', mu)\n",
    "        print('sig', np.std(new_col), 'Expected to be within', 2*SEM, 'of', sig)\n",
    "        bFailed=True\n",
    "        \n",
    "    return bFailed\n",
    "   "
   ]
  },
  {
   "cell_type": "code",
   "execution_count": 286,
   "metadata": {
    "collapsed": false
   },
   "outputs": [],
   "source": [
    "def test_process_name():\n",
    "    bFailed=False\n",
    "    \n",
    "    X_test = pd.DataFrame()\n",
    "    X_test['Name'] = ['Einstein, Dr. Albert', 'Planck, Mr. Max', 'Hubbel, Mrs. Seesfar', \n",
    "                          'Hilbert, Dr. David', 'Einstein, Ms. AlsoBadHair']\n",
    "    #Test Titles\n",
    "    X_out, name_cols = process_name(X_test, [], bTitle=True, bTrain=True)\n",
    "    X_expected_title = sorted([' Dr', ' Mr', ' Mrs', ' Ms']) #stipping keeps white space\n",
    "    if not np.array_equal(list(X_out.columns), X_expected_title):\n",
    "        print('test_process_name:Title_test: FAILED!!!')\n",
    "        print('Out columns', list(X_out.columns), 'Expected', X_expected_title)\n",
    "        bFailed=True\n",
    "        \n",
    "    \n",
    "    \n",
    "    \n",
    "    #Test Surnames\n",
    "    X_out, name_cols = process_name(X_test, [],bSurname=True, bTrain=True)\n",
    "    X_expected_surname = sorted(['Einstein', 'Hilbert', 'Hubbel','Planck']) #NOTE: get_dummies alphabetizes\n",
    "    if not np.array_equal(name_cols,X_expected_surname):\n",
    "        print('test_process_name:Surname_test FAILED!!!')\n",
    "        print('Out columns', list(X_out.columns), 'Expected', X_expected_surname)\n",
    "        print(X_test['Name'])\n",
    "        bFailed=True\n",
    "        \n",
    "    \n",
    "    \n",
    "    \n",
    "    #Test Training Phase\n",
    "    X_out, name_cols = process_name(X_test, [],bTitle=True, bSurname=True, bTrain=True)\n",
    "    X_expected = [[1,0,0,0,1,0,0,0], [0,0,0,1,0,1,0,0], [0,0,1,0,0,0,1,0], \n",
    "                  [0,1,0,0,1,0,0,0], [1,0,0,0,0,0,0,1]]\n",
    "    names_expected = X_expected_surname + X_expected_title\n",
    "    if ((not np.array_equal(X_out.values,X_expected)) | (not np.array_equal(name_cols,names_expected))):\n",
    "        print('test_process_name:Training_test FAILED!!!')\n",
    "        print('Out names', list(name_cols), 'Expected', names_expected)\n",
    "        print('Out X', X_out.values, 'Expected', X_expected)\n",
    "        bFailed=True\n",
    "    \n",
    "    \n",
    "    \n",
    "    \n",
    "    #Test Testing Phase\n",
    "    X_out, name_cols = process_name(X_test, [],bTitle=True, bSurname=True, bTrain=True)\n",
    "    X_test['Name'] = ['Heisenberg, Dr. Albert', 'Schrodinger, Mr. Max', 'Hubbel, Dr. Seesfar', \n",
    "                          'Hilbert, Ms. David', 'Einstein, Mr. AlsoBadHair']\n",
    "    #Adding new 0 cols\n",
    "    for i in name_cols:\n",
    "        X_test[i] = 0\n",
    "        \n",
    "    X_out, name_cols = process_name(X_test, name_cols, bTitle=True, bSurname=True, bTrain=False)\n",
    "    X_expected = [[0,0,0,0,1,0,0,0], [0,0,0,0,0,1,0,0], [0,0,1,0,1,0,0,0], \n",
    "                  [0,1,0,0,0,0,0,1], [1,0,0,0,0,1,0,0]]\n",
    "    if not np.array_equal(X_out.values,X_expected):\n",
    "        print('test_process_name:Testing_test FAILED!!!')\n",
    "        print('Out X', X_out.values, 'Expected', X_expected)\n",
    "        bFailed=True    \n",
    "    \n",
    "    return bFailed"
   ]
  },
  {
   "cell_type": "code",
   "execution_count": 287,
   "metadata": {
    "collapsed": true
   },
   "outputs": [],
   "source": [
    "def test_process_ticket():\n",
    "    bFailed=False\n",
    "    \n",
    "    X_test = pd.DataFrame()\n",
    "    X_test['Ticket'] = ['A/5 21171', 'A1 1', '11', 'AB', '0']\n",
    "    \n",
    "    #Test Train\n",
    "    X_out, name_cols = process_ticket(X_test, [], bTicketAlph=True, bTrain=True)\n",
    "    X_expected = pd.DataFrame({'Ticket-Num':[21171, 1, 11, 0, 0], 'A/5': [1, 0, 0, 0, 0], \n",
    "                                'A1': [0, 1, 0, 0, 0], 'AB': [0, 0, 0, 1, 0], 'NULL-Ticket': [0, 0, 1, 1, 1]})\n",
    "    if not X_out.equals(X_expected):\n",
    "        print('test_process_ticket: Train FAILED!!!')\n",
    "        print('Got\\n', X_out, '\\nExpected\\n', X_expected)\n",
    "        bFailed=True\n",
    "        \n",
    "    return bFailed"
   ]
  },
  {
   "cell_type": "code",
   "execution_count": 288,
   "metadata": {
    "collapsed": false
   },
   "outputs": [
    {
     "name": "stdout",
     "output_type": "stream",
     "text": [
      "test_process_ticket: Train FAILED!!!\n",
      "Got\n",
      "   Ticket-Num  A/5   A1   NULL-Ticket\n",
      "0      21171     1    0            0\n",
      "1          1     0    1            0\n",
      "2         11     0    0            1\n",
      "3          0     0    0            1\n",
      "4          0     0    0            1 \n",
      "Expected\n",
      "    A/5  A1  AB  NULL-Ticket  Ticket-Num\n",
      "0    1   0   0            0       21171\n",
      "1    0   1   0            0           1\n",
      "2    0   0   0            1          11\n",
      "3    0   0   1            1           0\n",
      "4    0   0   0            1           0\n",
      "Testing Failed\n"
     ]
    }
   ],
   "source": [
    "if((test_impute_data()) | (test_process_name()) | (test_process_ticket())):\n",
    "    print('Testing Failed')\n"
   ]
  },
  {
   "cell_type": "markdown",
   "metadata": {
    "collapsed": true
   },
   "source": [
    "## Main Code"
   ]
  },
  {
   "cell_type": "code",
   "execution_count": 340,
   "metadata": {
    "collapsed": false
   },
   "outputs": [],
   "source": [
    "X,Y,name_cols = munge_data(df, bTrain=True, bSurname=True, bTitle=False, \n",
    "              name_cols=[], bTicketAlph=True)"
   ]
  },
  {
   "cell_type": "code",
   "execution_count": 341,
   "metadata": {
    "collapsed": false
   },
   "outputs": [
    {
     "data": {
      "text/html": [
       "<div>\n",
       "<table border=\"1\" class=\"dataframe\">\n",
       "  <thead>\n",
       "    <tr style=\"text-align: right;\">\n",
       "      <th></th>\n",
       "      <th>Pclass</th>\n",
       "      <th>Sex</th>\n",
       "      <th>Age</th>\n",
       "      <th>SibSp</th>\n",
       "      <th>Parch</th>\n",
       "      <th>Fare</th>\n",
       "      <th>Embarked_Q</th>\n",
       "      <th>Embarked_S</th>\n",
       "      <th>Abbing</th>\n",
       "      <th>Abbott</th>\n",
       "      <th>...</th>\n",
       "      <th>SOTON/O.Q.</th>\n",
       "      <th>SOTON/O2</th>\n",
       "      <th>SOTON/OQ</th>\n",
       "      <th>STON/O 2.</th>\n",
       "      <th>STON/O2.</th>\n",
       "      <th>SW/PP</th>\n",
       "      <th>W./C.</th>\n",
       "      <th>W.E.P.</th>\n",
       "      <th>W/C</th>\n",
       "      <th>WE/P</th>\n",
       "    </tr>\n",
       "  </thead>\n",
       "  <tbody>\n",
       "    <tr>\n",
       "      <th>0</th>\n",
       "      <td>3</td>\n",
       "      <td>1.0</td>\n",
       "      <td>22.0</td>\n",
       "      <td>1</td>\n",
       "      <td>0</td>\n",
       "      <td>7.2500</td>\n",
       "      <td>0.0</td>\n",
       "      <td>1.0</td>\n",
       "      <td>0</td>\n",
       "      <td>0</td>\n",
       "      <td>...</td>\n",
       "      <td>0</td>\n",
       "      <td>0</td>\n",
       "      <td>0</td>\n",
       "      <td>0</td>\n",
       "      <td>0</td>\n",
       "      <td>0</td>\n",
       "      <td>0</td>\n",
       "      <td>0</td>\n",
       "      <td>0</td>\n",
       "      <td>0</td>\n",
       "    </tr>\n",
       "    <tr>\n",
       "      <th>1</th>\n",
       "      <td>1</td>\n",
       "      <td>0.0</td>\n",
       "      <td>38.0</td>\n",
       "      <td>1</td>\n",
       "      <td>0</td>\n",
       "      <td>71.2833</td>\n",
       "      <td>0.0</td>\n",
       "      <td>0.0</td>\n",
       "      <td>0</td>\n",
       "      <td>0</td>\n",
       "      <td>...</td>\n",
       "      <td>0</td>\n",
       "      <td>0</td>\n",
       "      <td>0</td>\n",
       "      <td>0</td>\n",
       "      <td>0</td>\n",
       "      <td>0</td>\n",
       "      <td>0</td>\n",
       "      <td>0</td>\n",
       "      <td>0</td>\n",
       "      <td>0</td>\n",
       "    </tr>\n",
       "    <tr>\n",
       "      <th>2</th>\n",
       "      <td>3</td>\n",
       "      <td>0.0</td>\n",
       "      <td>26.0</td>\n",
       "      <td>0</td>\n",
       "      <td>0</td>\n",
       "      <td>7.9250</td>\n",
       "      <td>0.0</td>\n",
       "      <td>1.0</td>\n",
       "      <td>0</td>\n",
       "      <td>0</td>\n",
       "      <td>...</td>\n",
       "      <td>0</td>\n",
       "      <td>0</td>\n",
       "      <td>0</td>\n",
       "      <td>0</td>\n",
       "      <td>1</td>\n",
       "      <td>0</td>\n",
       "      <td>0</td>\n",
       "      <td>0</td>\n",
       "      <td>0</td>\n",
       "      <td>0</td>\n",
       "    </tr>\n",
       "    <tr>\n",
       "      <th>3</th>\n",
       "      <td>1</td>\n",
       "      <td>0.0</td>\n",
       "      <td>35.0</td>\n",
       "      <td>1</td>\n",
       "      <td>0</td>\n",
       "      <td>53.1000</td>\n",
       "      <td>0.0</td>\n",
       "      <td>1.0</td>\n",
       "      <td>0</td>\n",
       "      <td>0</td>\n",
       "      <td>...</td>\n",
       "      <td>0</td>\n",
       "      <td>0</td>\n",
       "      <td>0</td>\n",
       "      <td>0</td>\n",
       "      <td>0</td>\n",
       "      <td>0</td>\n",
       "      <td>0</td>\n",
       "      <td>0</td>\n",
       "      <td>0</td>\n",
       "      <td>0</td>\n",
       "    </tr>\n",
       "    <tr>\n",
       "      <th>4</th>\n",
       "      <td>3</td>\n",
       "      <td>1.0</td>\n",
       "      <td>35.0</td>\n",
       "      <td>0</td>\n",
       "      <td>0</td>\n",
       "      <td>8.0500</td>\n",
       "      <td>0.0</td>\n",
       "      <td>1.0</td>\n",
       "      <td>0</td>\n",
       "      <td>0</td>\n",
       "      <td>...</td>\n",
       "      <td>0</td>\n",
       "      <td>0</td>\n",
       "      <td>0</td>\n",
       "      <td>0</td>\n",
       "      <td>0</td>\n",
       "      <td>0</td>\n",
       "      <td>0</td>\n",
       "      <td>0</td>\n",
       "      <td>0</td>\n",
       "      <td>0</td>\n",
       "    </tr>\n",
       "  </tbody>\n",
       "</table>\n",
       "<p>5 rows × 720 columns</p>\n",
       "</div>"
      ],
      "text/plain": [
       "   Pclass  Sex   Age  SibSp  Parch     Fare  Embarked_Q  Embarked_S  Abbing  \\\n",
       "0       3  1.0  22.0      1      0   7.2500         0.0         1.0       0   \n",
       "1       1  0.0  38.0      1      0  71.2833         0.0         0.0       0   \n",
       "2       3  0.0  26.0      0      0   7.9250         0.0         1.0       0   \n",
       "3       1  0.0  35.0      1      0  53.1000         0.0         1.0       0   \n",
       "4       3  1.0  35.0      0      0   8.0500         0.0         1.0       0   \n",
       "\n",
       "   Abbott  ...    SOTON/O.Q.   SOTON/O2   SOTON/OQ   STON/O 2.   STON/O2.   \\\n",
       "0       0  ...              0          0          0           0          0   \n",
       "1       0  ...              0          0          0           0          0   \n",
       "2       0  ...              0          0          0           0          1   \n",
       "3       0  ...              0          0          0           0          0   \n",
       "4       0  ...              0          0          0           0          0   \n",
       "\n",
       "   SW/PP   W./C.   W.E.P.   W/C   WE/P   \n",
       "0       0       0        0     0      0  \n",
       "1       0       0        0     0      0  \n",
       "2       0       0        0     0      0  \n",
       "3       0       0        0     0      0  \n",
       "4       0       0        0     0      0  \n",
       "\n",
       "[5 rows x 720 columns]"
      ]
     },
     "execution_count": 341,
     "metadata": {},
     "output_type": "execute_result"
    }
   ],
   "source": [
    "X.head()"
   ]
  },
  {
   "cell_type": "markdown",
   "metadata": {},
   "source": [
    "## Class Balance"
   ]
  },
  {
   "cell_type": "code",
   "execution_count": 342,
   "metadata": {
    "collapsed": false
   },
   "outputs": [
    {
     "name": "stdout",
     "output_type": "stream",
     "text": [
      "Number of Survivors 342 Portion 0.383838383838\n"
     ]
    }
   ],
   "source": [
    "print('Number of Survivors', sum(Y), 'Portion', sum(Y)/len(Y))"
   ]
  },
  {
   "cell_type": "code",
   "execution_count": 343,
   "metadata": {
    "collapsed": false
   },
   "outputs": [
    {
     "data": {
      "text/plain": [
       "<matplotlib.axes._subplots.AxesSubplot at 0x125315d30>"
      ]
     },
     "execution_count": 343,
     "metadata": {},
     "output_type": "execute_result"
    },
    {
     "data": {
      "image/png": "[encoded data removed]",
      "text/plain": [
       "<matplotlib.figure.Figure at 0x124d0e518>"
      ]
     },
     "metadata": {},
     "output_type": "display_data"
    }
   ],
   "source": [
    "cols_to_correlate = ['Pclass', 'Sex', 'Age', 'SibSp', 'Parch', 'Fare', 'Embarked_Q', 'Embarked_S', 'Ticket-Num'\n",
    "                        ]#,' Mr', ' Mrs', ' Miss', ' Master', ' Ms']\n",
    "%matplotlib inline\n",
    "\n",
    "plt.figure(figsize=(12,12))\n",
    "sbn.heatmap(X[cols_to_correlate].corr(), annot=True)"
   ]
  },
  {
   "cell_type": "code",
   "execution_count": 346,
   "metadata": {
    "collapsed": false
   },
   "outputs": [
    {
     "name": "stdout",
     "output_type": "stream",
     "text": [
      "Accuracy 0.791044776119\n",
      "AUC 0.773799374822\n",
      "             precision    recall  f1-score   support\n",
      "\n",
      "          0       0.77      0.90      0.83       153\n",
      "          1       0.82      0.65      0.73       115\n",
      "\n",
      "avg / total       0.80      0.79      0.79       268\n",
      "\n",
      "confusion matrix:\n",
      "[[137  16]\n",
      " [ 40  75]]\n",
      "\n",
      "\n",
      "Feature Importances\n",
      "Sex            0.177597\n",
      "Ticket-Num     0.106408\n",
      "Fare           0.098356\n",
      "Age            0.097184\n",
      "Pclass         0.050581\n",
      "SibSp          0.024075\n",
      "Parch          0.023972\n",
      "Embarked_S     0.015257\n",
      "Moor           0.006580\n",
      "Andersson      0.005604\n",
      "Jansson        0.005239\n",
      "Embarked_Q     0.005118\n",
      "Jussila        0.005052\n",
      "Barah          0.004941\n",
      "NULL-Ticket    0.004765\n",
      "dtype: float64\n",
      "\n",
      "\n",
      "Correlations\n",
      "Sex           0.295231\n",
      "Pclass        0.114569\n",
      "Fare          0.066207\n",
      "Embarked_S    0.022405\n",
      "PC            0.021627\n",
      "Ticket-Num    0.009140\n",
      "Baclini       0.007239\n",
      "Parch         0.006663\n",
      "Richards      0.005423\n",
      "Sage          0.004933\n",
      "Age           0.004804\n",
      "Panula        0.004223\n",
      "CA            0.004223\n",
      "Goodwin       0.004223\n",
      "Skoog         0.004223\n",
      "dtype: float64\n"
     ]
    },
    {
     "data": {
      "image/png": "[encoded data removed]",
      "text/plain": [
       "<matplotlib.figure.Figure at 0x124d12d68>"
      ]
     },
     "metadata": {},
     "output_type": "display_data"
    }
   ],
   "source": [
    "X_train, X_val, Y_train, Y_val = train_test_split(X,Y,test_size=0.3,random_state=1)\n",
    "\n",
    "clf = RandomForestClassifier()\n",
    "clf.fit(X_train, Y_train)\n",
    "\n",
    "\n",
    "predictions = clf.predict(X_val)\n",
    "acc = metrics.accuracy_score(Y_val, predictions)\n",
    "print('Accuracy', acc)\n",
    "f1 = metrics.f1_score(Y_val, predictions)\n",
    "auc = metrics.roc_auc_score(Y_val, predictions)\n",
    "print('AUC', auc)\n",
    "print(metrics.classification_report(Y_val, predictions))\n",
    "conf = metrics.confusion_matrix(Y_val, predictions)\n",
    "print('confusion matrix:')\n",
    "print(conf)\n",
    "\n",
    "feat_imp = pd.Series(clf.feature_importances_, X.columns).sort_values(ascending=False)\n",
    "corrs = pd.Series(index=X.columns)\n",
    "for i in X:\n",
    "    corrs[i] = np.corrcoef(X[i],Y)[0,1]\n",
    "    \n",
    "corrs = corrs.apply(lambda x: x**2).sort_values(ascending=False)\n",
    "   \n",
    "\n",
    "\n",
    "plt.figure()\n",
    "plt.plot(feat_imp.values)\n",
    "plt.xlim(0,50)\n",
    "plt.plot(corrs.values)\n",
    "\n",
    "print('\\n\\nFeature Importances')\n",
    "print(feat_imp[:15])\n",
    "\n",
    "print('\\n\\nCorrelations')\n",
    "print(corrs[:15])\n"
   ]
  },
  {
   "cell_type": "code",
   "execution_count": 347,
   "metadata": {
    "collapsed": false
   },
   "outputs": [
    {
     "name": "stdout",
     "output_type": "stream",
     "text": [
      "Accuracy 0.820895522388\n",
      "AUC 0.802102870134\n",
      "             precision    recall  f1-score   support\n",
      "\n",
      "          0       0.79      0.93      0.86       153\n",
      "          1       0.89      0.67      0.76       115\n",
      "\n",
      "avg / total       0.83      0.82      0.82       268\n",
      "\n",
      "confusion matrix:\n",
      "[[143  10]\n",
      " [ 38  77]]\n"
     ]
    }
   ],
   "source": [
    "important_features = list(feat_imp[:12].index)\n",
    "X_train_cut = X_train[important_features]\n",
    "X_val_cut = X_val[important_features]\n",
    "\n",
    "clf.fit(X_train_cut, Y_train)\n",
    "\n",
    "\n",
    "predictions = clf.predict(X_val_cut)\n",
    "acc = metrics.accuracy_score(Y_val, predictions)\n",
    "print('Accuracy', acc)\n",
    "f1 = metrics.f1_score(Y_val, predictions)\n",
    "auc = metrics.roc_auc_score(Y_val, predictions)\n",
    "print('AUC', auc)\n",
    "print(metrics.classification_report(Y_val, predictions))\n",
    "conf = metrics.confusion_matrix(Y_val, predictions)\n",
    "print('confusion matrix:')\n",
    "print(conf)"
   ]
  },
  {
   "cell_type": "code",
   "execution_count": 348,
   "metadata": {
    "collapsed": false
   },
   "outputs": [
    {
     "data": {
      "text/plain": [
       "GridSearchCV(cv=5, error_score='raise',\n",
       "       estimator=RandomForestClassifier(bootstrap=True, class_weight=None, criterion='gini',\n",
       "            max_depth=None, max_features='auto', max_leaf_nodes=None,\n",
       "            min_impurity_decrease=0.0, min_impurity_split=None,\n",
       "            min_samples_leaf=1, min_samples_split=2,\n",
       "            min_weight_fraction_leaf=0.0, n_estimators=10, n_jobs=1,\n",
       "            oob_score=False, random_state=None, verbose=0,\n",
       "            warm_start=False),\n",
       "       fit_params=None, iid=True, n_jobs=1,\n",
       "       param_grid={'min_samples_leaf': [1, 0.05], 'class_weight': ['balanced', 'balanced_subsample', None], 'criterion': ['gini', 'entropy'], 'max_features': ['auto', 'sqrt', 'log2'], 'n_estimators': [50, 100, 200]},\n",
       "       pre_dispatch='2*n_jobs', refit=True, return_train_score='warn',\n",
       "       scoring='accuracy', verbose=0)"
      ]
     },
     "execution_count": 348,
     "metadata": {},
     "output_type": "execute_result"
    }
   ],
   "source": [
    "parameters = {'max_features': ['auto', 'sqrt', 'log2'],\n",
    "              'min_samples_leaf':[1, 0.05],\n",
    "              'n_estimators':[50,100,200],\n",
    "              'class_weight': ['balanced', 'balanced_subsample', None], \n",
    "              'criterion': ['gini', 'entropy']\n",
    "             }\n",
    "clf = RandomForestClassifier()\n",
    "gs_cv = GridSearchCV(clf,parameters, cv=5, scoring='accuracy')\n",
    "gs_cv.fit(X_train_cut, Y_train)"
   ]
  },
  {
   "cell_type": "code",
   "execution_count": 349,
   "metadata": {
    "collapsed": false
   },
   "outputs": [
    {
     "name": "stdout",
     "output_type": "stream",
     "text": [
      "The best parameter found on development set is :\n",
      "{'min_samples_leaf': 1, 'class_weight': 'balanced', 'criterion': 'gini', 'n_estimators': 50, 'max_features': 'sqrt'}\n",
      "the best estimator is \n",
      "RandomForestClassifier(bootstrap=True, class_weight='balanced',\n",
      "            criterion='gini', max_depth=None, max_features='sqrt',\n",
      "            max_leaf_nodes=None, min_impurity_decrease=0.0,\n",
      "            min_impurity_split=None, min_samples_leaf=1,\n",
      "            min_samples_split=2, min_weight_fraction_leaf=0.0,\n",
      "            n_estimators=50, n_jobs=1, oob_score=False, random_state=None,\n",
      "            verbose=0, warm_start=False)\n",
      "The best score is \n",
      "0.84430176565\n",
      "Accuracy 0.787313432836 F1 0.710659898477 AUC 0.765132139812 recall 0.608695652174\n",
      "[[141  12]\n",
      " [ 45  70]]\n"
     ]
    }
   ],
   "source": [
    "print(\"The best parameter found on development set is :\")\n",
    "print(gs_cv.best_params_)\n",
    "print(\"the best estimator is \")\n",
    "print(gs_cv.best_estimator_)\n",
    "print(\"The best score is \")\n",
    "print(gs_cv.best_score_)\n",
    "\n",
    "clf_best = gs_cv.best_estimator_\n",
    "predictions = clf_best.predict(X_val_cut)\n",
    "acc = metrics.accuracy_score(Y_val, predictions)\n",
    "f1 = metrics.f1_score(Y_val, predictions)\n",
    "auc = metrics.roc_auc_score(Y_val, predictions)\n",
    "rec = metrics.recall_score(Y_val, predictions)\n",
    "print('Accuracy', acc, 'F1', f1, 'AUC', auc, 'recall', rec)\n",
    "print(metrics.confusion_matrix(Y_val, predictions))"
   ]
  },
  {
   "cell_type": "code",
   "execution_count": 350,
   "metadata": {
    "collapsed": false
   },
   "outputs": [
    {
     "name": "stdout",
     "output_type": "stream",
     "text": [
      "             precision    recall  f1-score   support\n",
      "\n",
      "          0       0.74      0.93      0.82       153\n",
      "          1       0.86      0.57      0.68       115\n",
      "\n",
      "avg / total       0.79      0.77      0.76       268\n",
      "\n",
      "[[142  11]\n",
      " [ 50  65]]\n",
      "Accuracy 0.772388059701\n"
     ]
    },
    {
     "name": "stderr",
     "output_type": "stream",
     "text": [
      "/Users/shaneyODB/anaconda/lib/python3.5/site-packages/ipykernel/__main__.py:23: DeprecationWarning: `imread` is deprecated!\n",
      "`imread` is deprecated in SciPy 1.0.0, and will be removed in 1.2.0.\n",
      "Use ``imageio.imread`` instead.\n"
     ]
    },
    {
     "data": {
      "text/plain": [
       "<matplotlib.image.AxesImage at 0x125ec8f60>"
      ]
     },
     "execution_count": 350,
     "metadata": {},
     "output_type": "execute_result"
    },
    {
     "data": {
      "image/png": "[encoded data removed]",
      "text/plain": [
       "<matplotlib.figure.Figure at 0x125e70c18>"
      ]
     },
     "metadata": {},
     "output_type": "display_data"
    }
   ],
   "source": [
    "from sklearn.tree import DecisionTreeClassifier\n",
    "from sklearn.externals.six import StringIO  \n",
    "from scipy import misc\n",
    "from sklearn.tree import export_graphviz\n",
    "import pydotplus\n",
    "\n",
    "clf_1dt = DecisionTreeClassifier(max_depth=3)\n",
    "clf_1dt.fit(X_train_cut, Y_train)\n",
    "\n",
    "predictions = clf_1dt.predict(X_val_cut)\n",
    "\n",
    "print(metrics.classification_report(Y_val, predictions))\n",
    "print(metrics.confusion_matrix(Y_val, predictions))\n",
    "print('Accuracy', metrics.accuracy_score(Y_val, predictions))\n",
    "\n",
    "dot_file = StringIO()\n",
    "export_graphviz(clf_1dt, out_file=dot_file, \n",
    "                feature_names=list(X_train_cut.columns), filled=True)\n",
    "\n",
    "graph = pydotplus.graph_from_dot_data(dot_file.getvalue())\n",
    "graph.create_png()\n",
    "graph.write_png('test.png')\n",
    "i = misc.imread('test.png')\n",
    "plt.figure(figsize=(15,15))\n",
    "plt.imshow(i)"
   ]
  },
  {
   "cell_type": "markdown",
   "metadata": {},
   "source": [
    "## Summary"
   ]
  },
  {
   "cell_type": "code",
   "execution_count": null,
   "metadata": {
    "collapsed": true
   },
   "outputs": [],
   "source": [
    "'''\n",
    "Of those that survived, many a)were not 'Mr.s', b) had high Pclass, and c) Had higher numbers\n",
    "\n",
    "Of those that died, many a) were 'Mr.s', b) were of lower class, and c) were also male (surprise: must be a parsing error or mislabeling?)\n",
    "'''"
   ]
  }
 ],
 "metadata": {
  "anaconda-cloud": {},
  "kernelspec": {
   "display_name": "Python [Root]",
   "language": "python",
   "name": "Python [Root]"
  },
  "language_info": {
   "codemirror_mode": {
    "name": "ipython",
    "version": 3
   },
   "file_extension": ".py",
   "mimetype": "text/x-python",
   "name": "python",
   "nbconvert_exporter": "python",
   "pygments_lexer": "ipython3",
   "version": "3.5.2"
  }
 },
 "nbformat": 4,
 "nbformat_minor": 0
}
